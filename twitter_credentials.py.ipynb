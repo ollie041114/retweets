{
 "cells": [
  {
   "cell_type": "code",
   "execution_count": null,
   "id": "41efafbe",
   "metadata": {},
   "outputs": [],
   "source": [
    "# Variables that contain user credentials to access Twitter API\n",
    "\n",
    "API_Key = \"yQYG1NxWXVJzFMGzYLPUAyKCe\"\n",
    "API_Key_Secret = \"epUQTwaCkIkKENvJw5LpcgPk8cuS54tqHQCrlGiA3mzLvrpIgP\" \n",
    "Bearer_Token = \"AAAAAAAAAAAAAAAAAAAAAHrEbQEAAAAAz293uUzqwkL%2BXCGJxPzvs%2F61zes%3DwlTQ0QLWxnDGZL3skw38QrDaAXjfWGXsWqzDjF2bJOkETNwlsr\""
   ]
  }
 ],
 "metadata": {
  "kernelspec": {
   "display_name": "Python 3 (ipykernel)",
   "language": "python",
   "name": "python3"
  },
  "language_info": {
   "codemirror_mode": {
    "name": "ipython",
    "version": 3
   },
   "file_extension": ".py",
   "mimetype": "text/x-python",
   "name": "python",
   "nbconvert_exporter": "python",
   "pygments_lexer": "ipython3",
   "version": "3.9.7"
  }
 },
 "nbformat": 4,
 "nbformat_minor": 5
}
